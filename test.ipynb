{
 "cells": [
  {
   "cell_type": "code",
   "execution_count": null,
   "metadata": {},
   "outputs": [],
   "source": [
    "from get_dx import *\n",
    "import pandas as pd"
   ]
  },
  {
   "cell_type": "markdown",
   "metadata": {},
   "source": [
    "After importing, we can create pqr files from all the pdb files in a folder. In this case, `pdb_test` has 4 pdb files"
   ]
  },
  {
   "cell_type": "code",
   "execution_count": null,
   "metadata": {},
   "outputs": [],
   "source": [
    "folder = \"pdb_test/\"\n",
    "pdb2pqr_exe = \"/home/chris/Software/apbs-pdb2pqr/pdb2pqr/pdb2pqr.py\"\n",
    "generate_pqr_files(folder, pdb2pqr_exe)"
   ]
  },
  {
   "cell_type": "markdown",
   "metadata": {},
   "source": [
    "Now the folder `pdb_test`has 4 pdbs and 4 pqrs. Let's now run APBS on all those pqr files, for linear, nonlinear, and vacuum."
   ]
  },
  {
   "cell_type": "code",
   "execution_count": null,
   "metadata": {},
   "outputs": [],
   "source": [
    "apbs_exe = \"apbs\"\n",
    "modify_and_run_apbs(folder, apbs_exe, spacing=0.5)"
   ]
  },
  {
   "cell_type": "markdown",
   "metadata": {},
   "source": [
    "This will generate two things in the `pdb_test`folder: (1) a `.dx`file with the electrostatic potential map for every run, and (2) a `energy.csv` file that is readeable by Pandas summarizing the energy results and the corresponding `.dx`file. Both `generate_pqr_files` and `modify_and_run_apbs` can also be executed from the command line. \n",
    "\n",
    "Let's explore the results. "
   ]
  },
  {
   "cell_type": "code",
   "execution_count": null,
   "metadata": {},
   "outputs": [],
   "source": [
    "data=pd.read_csv(\"pdb_test/energy.csv\")\n",
    "data"
   ]
  },
  {
   "cell_type": "markdown",
   "metadata": {},
   "source": [
    "Looking at the dx file names we can load to explore. For example:"
   ]
  },
  {
   "cell_type": "code",
   "execution_count": null,
   "metadata": {},
   "outputs": [],
   "source": [
    "dx_1 = DXFile(\"pdb_test/ens_1368_nonlinear_solvated.dx\")"
   ]
  },
  {
   "cell_type": "code",
   "execution_count": null,
   "metadata": {},
   "outputs": [],
   "source": [
    "dx_1.visualize(cut_position='middle', axis='y',vmin=-30,vmax=30)"
   ]
  },
  {
   "cell_type": "markdown",
   "metadata": {},
   "source": [
    "Or look at differences. For example, the difference between linear and nonlinear"
   ]
  },
  {
   "cell_type": "code",
   "execution_count": null,
   "metadata": {},
   "outputs": [],
   "source": [
    "dx_2 = DXFile(\"pdb_test/ens_1368_linear_solvated.dx\")\n",
    "dx_diff = dx_1 - dx_2"
   ]
  },
  {
   "cell_type": "code",
   "execution_count": null,
   "metadata": {},
   "outputs": [],
   "source": [
    "dx_diff.visualize()"
   ]
  },
  {
   "cell_type": "markdown",
   "metadata": {},
   "source": [
    "or even differences between ensembles!"
   ]
  },
  {
   "cell_type": "code",
   "execution_count": null,
   "metadata": {},
   "outputs": [],
   "source": [
    "dx_3 = DXFile(\"pdb_test/ens_1333_nonlinear_solvated.dx\")\n",
    "dx_diff_2 = dx_1 - dx_3"
   ]
  },
  {
   "cell_type": "code",
   "execution_count": null,
   "metadata": {},
   "outputs": [],
   "source": [
    "dx_diff_2.visualize(vmin=-60,vmax=60)"
   ]
  }
 ],
 "metadata": {
  "kernelspec": {
   "display_name": "mdanalysis",
   "language": "python",
   "name": "python3"
  },
  "language_info": {
   "codemirror_mode": {
    "name": "ipython",
    "version": 3
   },
   "file_extension": ".py",
   "mimetype": "text/x-python",
   "name": "python",
   "nbconvert_exporter": "python",
   "pygments_lexer": "ipython3",
   "version": "3.8.8"
  }
 },
 "nbformat": 4,
 "nbformat_minor": 2
}
